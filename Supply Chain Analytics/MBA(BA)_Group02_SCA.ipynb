{
 "cells": [
  {
   "cell_type": "code",
   "execution_count": null,
   "metadata": {
    "id": "mYeZuFAaxtwp"
   },
   "outputs": [],
   "source": []
  },
  {
   "cell_type": "markdown",
   "metadata": {
    "id": "NDBNDJ8n8_Ap"
   },
   "source": [
    "Data source:- https://www.kaggle.com/oossiiris/hackerearth-machine-learning-exhibit-art\n"
   ]
  },
  {
   "cell_type": "code",
   "execution_count": null,
   "metadata": {
    "id": "z_B0OjryR9TK"
   },
   "outputs": [],
   "source": [
    "from google.colab import drive\n",
    "drive.mount('/content/gdrive')"
   ]
  },
  {
   "cell_type": "code",
   "execution_count": null,
   "metadata": {
    "id": "zt-Nh6d-SPzc"
   },
   "outputs": [],
   "source": [
    "import numpy as np\n",
    "import pandas as pd\n",
    "tp = pd.read_csv('gdrive/My Drive/Colab Notebooks/dataset/train.csv',sep=',')\n",
    "\n"
   ]
  },
  {
   "cell_type": "code",
   "execution_count": null,
   "metadata": {
    "colab": {
     "base_uri": "https://localhost:8080/"
    },
    "id": "TxZU_C0jSoUb",
    "outputId": "21332b1e-dc58-4a00-f1cf-7c9501601653"
   },
   "outputs": [
    {
     "data": {
      "text/plain": [
       "(6500, 20)"
      ]
     },
     "execution_count": 3,
     "metadata": {},
     "output_type": "execute_result"
    }
   ],
   "source": [
    "tp.shape"
   ]
  },
  {
   "cell_type": "code",
   "execution_count": null,
   "metadata": {
    "colab": {
     "base_uri": "https://localhost:8080/",
     "height": 365
    },
    "id": "W-CofxmOSqq5",
    "outputId": "ad446d52-d782-4660-9c2b-fb091d2a74d9"
   },
   "outputs": [
    {
     "data": {
      "text/html": [
       "<div>\n",
       "<style scoped>\n",
       "    .dataframe tbody tr th:only-of-type {\n",
       "        vertical-align: middle;\n",
       "    }\n",
       "\n",
       "    .dataframe tbody tr th {\n",
       "        vertical-align: top;\n",
       "    }\n",
       "\n",
       "    .dataframe thead th {\n",
       "        text-align: right;\n",
       "    }\n",
       "</style>\n",
       "<table border=\"1\" class=\"dataframe\">\n",
       "  <thead>\n",
       "    <tr style=\"text-align: right;\">\n",
       "      <th></th>\n",
       "      <th>Customer Id</th>\n",
       "      <th>Artist Name</th>\n",
       "      <th>Artist Reputation</th>\n",
       "      <th>Height</th>\n",
       "      <th>Width</th>\n",
       "      <th>Weight</th>\n",
       "      <th>Material</th>\n",
       "      <th>Price Of Sculpture</th>\n",
       "      <th>Base Shipping Price</th>\n",
       "      <th>International</th>\n",
       "      <th>Express Shipment</th>\n",
       "      <th>Installation Included</th>\n",
       "      <th>Transport</th>\n",
       "      <th>Fragile</th>\n",
       "      <th>Customer Information</th>\n",
       "      <th>Remote Location</th>\n",
       "      <th>Scheduled Date</th>\n",
       "      <th>Delivery Date</th>\n",
       "      <th>Customer Location</th>\n",
       "      <th>Cost</th>\n",
       "    </tr>\n",
       "  </thead>\n",
       "  <tbody>\n",
       "    <tr>\n",
       "      <th>0</th>\n",
       "      <td>fffe3900350033003300</td>\n",
       "      <td>Billy Jenkins</td>\n",
       "      <td>0.26</td>\n",
       "      <td>17.0</td>\n",
       "      <td>6.0</td>\n",
       "      <td>4128.0</td>\n",
       "      <td>Brass</td>\n",
       "      <td>13.91</td>\n",
       "      <td>16.27</td>\n",
       "      <td>Yes</td>\n",
       "      <td>Yes</td>\n",
       "      <td>No</td>\n",
       "      <td>Airways</td>\n",
       "      <td>No</td>\n",
       "      <td>Working Class</td>\n",
       "      <td>No</td>\n",
       "      <td>06/07/15</td>\n",
       "      <td>06/03/15</td>\n",
       "      <td>New Michelle, OH 50777</td>\n",
       "      <td>-283.29</td>\n",
       "    </tr>\n",
       "    <tr>\n",
       "      <th>1</th>\n",
       "      <td>fffe3800330031003900</td>\n",
       "      <td>Jean Bryant</td>\n",
       "      <td>0.28</td>\n",
       "      <td>3.0</td>\n",
       "      <td>3.0</td>\n",
       "      <td>61.0</td>\n",
       "      <td>Brass</td>\n",
       "      <td>6.83</td>\n",
       "      <td>15.00</td>\n",
       "      <td>No</td>\n",
       "      <td>No</td>\n",
       "      <td>No</td>\n",
       "      <td>Roadways</td>\n",
       "      <td>No</td>\n",
       "      <td>Working Class</td>\n",
       "      <td>No</td>\n",
       "      <td>03/06/17</td>\n",
       "      <td>03/05/17</td>\n",
       "      <td>New Michaelport, WY 12072</td>\n",
       "      <td>-159.96</td>\n",
       "    </tr>\n",
       "    <tr>\n",
       "      <th>2</th>\n",
       "      <td>fffe3600370035003100</td>\n",
       "      <td>Laura Miller</td>\n",
       "      <td>0.07</td>\n",
       "      <td>8.0</td>\n",
       "      <td>5.0</td>\n",
       "      <td>237.0</td>\n",
       "      <td>Clay</td>\n",
       "      <td>4.96</td>\n",
       "      <td>21.18</td>\n",
       "      <td>No</td>\n",
       "      <td>No</td>\n",
       "      <td>No</td>\n",
       "      <td>Roadways</td>\n",
       "      <td>Yes</td>\n",
       "      <td>Working Class</td>\n",
       "      <td>Yes</td>\n",
       "      <td>03/09/15</td>\n",
       "      <td>03/08/15</td>\n",
       "      <td>Bowmanshire, WA 19241</td>\n",
       "      <td>-154.29</td>\n",
       "    </tr>\n",
       "    <tr>\n",
       "      <th>3</th>\n",
       "      <td>fffe350031003300</td>\n",
       "      <td>Robert Chaires</td>\n",
       "      <td>0.12</td>\n",
       "      <td>9.0</td>\n",
       "      <td>NaN</td>\n",
       "      <td>NaN</td>\n",
       "      <td>Aluminium</td>\n",
       "      <td>5.81</td>\n",
       "      <td>16.31</td>\n",
       "      <td>No</td>\n",
       "      <td>No</td>\n",
       "      <td>No</td>\n",
       "      <td>NaN</td>\n",
       "      <td>No</td>\n",
       "      <td>Wealthy</td>\n",
       "      <td>Yes</td>\n",
       "      <td>05/24/15</td>\n",
       "      <td>05/20/15</td>\n",
       "      <td>East Robyn, KY 86375</td>\n",
       "      <td>-161.16</td>\n",
       "    </tr>\n",
       "    <tr>\n",
       "      <th>4</th>\n",
       "      <td>fffe3900320038003400</td>\n",
       "      <td>Rosalyn Krol</td>\n",
       "      <td>0.15</td>\n",
       "      <td>17.0</td>\n",
       "      <td>6.0</td>\n",
       "      <td>324.0</td>\n",
       "      <td>Aluminium</td>\n",
       "      <td>3.18</td>\n",
       "      <td>11.94</td>\n",
       "      <td>Yes</td>\n",
       "      <td>Yes</td>\n",
       "      <td>Yes</td>\n",
       "      <td>Airways</td>\n",
       "      <td>No</td>\n",
       "      <td>Working Class</td>\n",
       "      <td>No</td>\n",
       "      <td>12/18/16</td>\n",
       "      <td>12/14/16</td>\n",
       "      <td>Aprilside, PA 52793</td>\n",
       "      <td>-159.23</td>\n",
       "    </tr>\n",
       "  </tbody>\n",
       "</table>\n",
       "</div>"
      ],
      "text/plain": [
       "            Customer Id     Artist Name  ...          Customer Location    Cost\n",
       "0  fffe3900350033003300   Billy Jenkins  ...     New Michelle, OH 50777 -283.29\n",
       "1  fffe3800330031003900     Jean Bryant  ...  New Michaelport, WY 12072 -159.96\n",
       "2  fffe3600370035003100    Laura Miller  ...      Bowmanshire, WA 19241 -154.29\n",
       "3      fffe350031003300  Robert Chaires  ...       East Robyn, KY 86375 -161.16\n",
       "4  fffe3900320038003400    Rosalyn Krol  ...        Aprilside, PA 52793 -159.23\n",
       "\n",
       "[5 rows x 20 columns]"
      ]
     },
     "execution_count": 4,
     "metadata": {},
     "output_type": "execute_result"
    }
   ],
   "source": [
    "tp.head()"
   ]
  },
  {
   "cell_type": "code",
   "execution_count": null,
   "metadata": {
    "id": "FWfo0yH2D644"
   },
   "outputs": [],
   "source": [
    "tp['Cost']=tp['Cost'].abs()"
   ]
  },
  {
   "cell_type": "code",
   "execution_count": null,
   "metadata": {
    "id": "YesWLCKGEdx0"
   },
   "outputs": [],
   "source": [
    "tp['Scheduled Date']=pd.to_datetime(tp['Scheduled Date'],format='%m/%d/%y')\n",
    "tp['Delivery Date']=pd.to_datetime(tp['Delivery Date'],format='%m/%d/%y')"
   ]
  },
  {
   "cell_type": "code",
   "execution_count": null,
   "metadata": {
    "id": "AlTzn0ccErDv"
   },
   "outputs": [],
   "source": [
    "tp['S_month']=tp['Scheduled Date'].dt.month\n",
    "tp['S_year']=tp['Scheduled Date'].dt.year\n",
    "tp['S_Day']=tp['Scheduled Date'].dt.day"
   ]
  },
  {
   "cell_type": "code",
   "execution_count": null,
   "metadata": {
    "id": "VU0B_YScEwZ8"
   },
   "outputs": [],
   "source": [
    "tp['D_month']=tp['Delivery Date'].dt.month\n",
    "tp['D_year']=tp['Delivery Date'].dt.year\n",
    "tp['D_Day']=tp['Delivery Date'].dt.day"
   ]
  },
  {
   "cell_type": "code",
   "execution_count": null,
   "metadata": {
    "id": "4kvOErDmE1u4"
   },
   "outputs": [],
   "source": [
    "tp.drop(['Scheduled Date','Delivery Date'],1,inplace=True)"
   ]
  },
  {
   "cell_type": "code",
   "execution_count": null,
   "metadata": {
    "colab": {
     "base_uri": "https://localhost:8080/",
     "height": 365
    },
    "id": "JY9BWmDaE4MO",
    "outputId": "3b7559af-3262-4488-9e48-957859cbbd1c"
   },
   "outputs": [
    {
     "data": {
      "text/html": [
       "<div>\n",
       "<style scoped>\n",
       "    .dataframe tbody tr th:only-of-type {\n",
       "        vertical-align: middle;\n",
       "    }\n",
       "\n",
       "    .dataframe tbody tr th {\n",
       "        vertical-align: top;\n",
       "    }\n",
       "\n",
       "    .dataframe thead th {\n",
       "        text-align: right;\n",
       "    }\n",
       "</style>\n",
       "<table border=\"1\" class=\"dataframe\">\n",
       "  <thead>\n",
       "    <tr style=\"text-align: right;\">\n",
       "      <th></th>\n",
       "      <th>Customer Id</th>\n",
       "      <th>Artist Name</th>\n",
       "      <th>Artist Reputation</th>\n",
       "      <th>Height</th>\n",
       "      <th>Width</th>\n",
       "      <th>Weight</th>\n",
       "      <th>Material</th>\n",
       "      <th>Price Of Sculpture</th>\n",
       "      <th>Base Shipping Price</th>\n",
       "      <th>International</th>\n",
       "      <th>Express Shipment</th>\n",
       "      <th>Installation Included</th>\n",
       "      <th>Transport</th>\n",
       "      <th>Fragile</th>\n",
       "      <th>Customer Information</th>\n",
       "      <th>Remote Location</th>\n",
       "      <th>Customer Location</th>\n",
       "      <th>Cost</th>\n",
       "      <th>S_month</th>\n",
       "      <th>S_year</th>\n",
       "      <th>S_Day</th>\n",
       "      <th>D_month</th>\n",
       "      <th>D_year</th>\n",
       "      <th>D_Day</th>\n",
       "    </tr>\n",
       "  </thead>\n",
       "  <tbody>\n",
       "    <tr>\n",
       "      <th>0</th>\n",
       "      <td>fffe3900350033003300</td>\n",
       "      <td>Billy Jenkins</td>\n",
       "      <td>0.26</td>\n",
       "      <td>17.0</td>\n",
       "      <td>6.0</td>\n",
       "      <td>4128.0</td>\n",
       "      <td>Brass</td>\n",
       "      <td>13.91</td>\n",
       "      <td>16.27</td>\n",
       "      <td>Yes</td>\n",
       "      <td>Yes</td>\n",
       "      <td>No</td>\n",
       "      <td>Airways</td>\n",
       "      <td>No</td>\n",
       "      <td>Working Class</td>\n",
       "      <td>No</td>\n",
       "      <td>New Michelle, OH 50777</td>\n",
       "      <td>283.29</td>\n",
       "      <td>6</td>\n",
       "      <td>2015</td>\n",
       "      <td>7</td>\n",
       "      <td>6</td>\n",
       "      <td>2015</td>\n",
       "      <td>3</td>\n",
       "    </tr>\n",
       "    <tr>\n",
       "      <th>1</th>\n",
       "      <td>fffe3800330031003900</td>\n",
       "      <td>Jean Bryant</td>\n",
       "      <td>0.28</td>\n",
       "      <td>3.0</td>\n",
       "      <td>3.0</td>\n",
       "      <td>61.0</td>\n",
       "      <td>Brass</td>\n",
       "      <td>6.83</td>\n",
       "      <td>15.00</td>\n",
       "      <td>No</td>\n",
       "      <td>No</td>\n",
       "      <td>No</td>\n",
       "      <td>Roadways</td>\n",
       "      <td>No</td>\n",
       "      <td>Working Class</td>\n",
       "      <td>No</td>\n",
       "      <td>New Michaelport, WY 12072</td>\n",
       "      <td>159.96</td>\n",
       "      <td>3</td>\n",
       "      <td>2017</td>\n",
       "      <td>6</td>\n",
       "      <td>3</td>\n",
       "      <td>2017</td>\n",
       "      <td>5</td>\n",
       "    </tr>\n",
       "    <tr>\n",
       "      <th>2</th>\n",
       "      <td>fffe3600370035003100</td>\n",
       "      <td>Laura Miller</td>\n",
       "      <td>0.07</td>\n",
       "      <td>8.0</td>\n",
       "      <td>5.0</td>\n",
       "      <td>237.0</td>\n",
       "      <td>Clay</td>\n",
       "      <td>4.96</td>\n",
       "      <td>21.18</td>\n",
       "      <td>No</td>\n",
       "      <td>No</td>\n",
       "      <td>No</td>\n",
       "      <td>Roadways</td>\n",
       "      <td>Yes</td>\n",
       "      <td>Working Class</td>\n",
       "      <td>Yes</td>\n",
       "      <td>Bowmanshire, WA 19241</td>\n",
       "      <td>154.29</td>\n",
       "      <td>3</td>\n",
       "      <td>2015</td>\n",
       "      <td>9</td>\n",
       "      <td>3</td>\n",
       "      <td>2015</td>\n",
       "      <td>8</td>\n",
       "    </tr>\n",
       "    <tr>\n",
       "      <th>3</th>\n",
       "      <td>fffe350031003300</td>\n",
       "      <td>Robert Chaires</td>\n",
       "      <td>0.12</td>\n",
       "      <td>9.0</td>\n",
       "      <td>NaN</td>\n",
       "      <td>NaN</td>\n",
       "      <td>Aluminium</td>\n",
       "      <td>5.81</td>\n",
       "      <td>16.31</td>\n",
       "      <td>No</td>\n",
       "      <td>No</td>\n",
       "      <td>No</td>\n",
       "      <td>NaN</td>\n",
       "      <td>No</td>\n",
       "      <td>Wealthy</td>\n",
       "      <td>Yes</td>\n",
       "      <td>East Robyn, KY 86375</td>\n",
       "      <td>161.16</td>\n",
       "      <td>5</td>\n",
       "      <td>2015</td>\n",
       "      <td>24</td>\n",
       "      <td>5</td>\n",
       "      <td>2015</td>\n",
       "      <td>20</td>\n",
       "    </tr>\n",
       "    <tr>\n",
       "      <th>4</th>\n",
       "      <td>fffe3900320038003400</td>\n",
       "      <td>Rosalyn Krol</td>\n",
       "      <td>0.15</td>\n",
       "      <td>17.0</td>\n",
       "      <td>6.0</td>\n",
       "      <td>324.0</td>\n",
       "      <td>Aluminium</td>\n",
       "      <td>3.18</td>\n",
       "      <td>11.94</td>\n",
       "      <td>Yes</td>\n",
       "      <td>Yes</td>\n",
       "      <td>Yes</td>\n",
       "      <td>Airways</td>\n",
       "      <td>No</td>\n",
       "      <td>Working Class</td>\n",
       "      <td>No</td>\n",
       "      <td>Aprilside, PA 52793</td>\n",
       "      <td>159.23</td>\n",
       "      <td>12</td>\n",
       "      <td>2016</td>\n",
       "      <td>18</td>\n",
       "      <td>12</td>\n",
       "      <td>2016</td>\n",
       "      <td>14</td>\n",
       "    </tr>\n",
       "  </tbody>\n",
       "</table>\n",
       "</div>"
      ],
      "text/plain": [
       "            Customer Id     Artist Name  ...  D_year  D_Day\n",
       "0  fffe3900350033003300   Billy Jenkins  ...    2015      3\n",
       "1  fffe3800330031003900     Jean Bryant  ...    2017      5\n",
       "2  fffe3600370035003100    Laura Miller  ...    2015      8\n",
       "3      fffe350031003300  Robert Chaires  ...    2015     20\n",
       "4  fffe3900320038003400    Rosalyn Krol  ...    2016     14\n",
       "\n",
       "[5 rows x 24 columns]"
      ]
     },
     "execution_count": 10,
     "metadata": {},
     "output_type": "execute_result"
    }
   ],
   "source": [
    "tp.head()"
   ]
  },
  {
   "cell_type": "code",
   "execution_count": null,
   "metadata": {
    "id": "cJ3JxYnYFApt"
   },
   "outputs": [],
   "source": [
    "tp['Transport'].fillna(\"missingTransport\",inplace=True)\n",
    "tp['Material'].fillna(\"missingMaterial\",inplace=True)\n",
    "tp['Remote Location'].fillna(\"missingRemoteLocation\",inplace=True)"
   ]
  },
  {
   "cell_type": "code",
   "execution_count": null,
   "metadata": {
    "id": "3XwyZUBpFFBZ"
   },
   "outputs": [],
   "source": [
    "tp['Artist Reputation'].fillna(value=tp['Artist Reputation'].mean(), inplace=True)\n",
    "tp['Height'].fillna(value=tp['Height'].mean(), inplace=True)\n",
    "tp['Weight'].fillna(value=tp['Weight'].mean(), inplace=True)\n",
    "tp['Width'].fillna(value=tp['Width'].mean(), inplace=True)"
   ]
  },
  {
   "cell_type": "code",
   "execution_count": null,
   "metadata": {
    "colab": {
     "base_uri": "https://localhost:8080/"
    },
    "id": "qsOwd3mcFOTp",
    "outputId": "d43e4e5b-3d6e-4ffe-feae-01edb386b4a1"
   },
   "outputs": [
    {
     "data": {
      "text/plain": [
       "Customer Id              0\n",
       "Artist Name              0\n",
       "Artist Reputation        0\n",
       "Height                   0\n",
       "Width                    0\n",
       "Weight                   0\n",
       "Material                 0\n",
       "Price Of Sculpture       0\n",
       "Base Shipping Price      0\n",
       "International            0\n",
       "Express Shipment         0\n",
       "Installation Included    0\n",
       "Transport                0\n",
       "Fragile                  0\n",
       "Customer Information     0\n",
       "Remote Location          0\n",
       "Customer Location        0\n",
       "Cost                     0\n",
       "S_month                  0\n",
       "S_year                   0\n",
       "S_Day                    0\n",
       "D_month                  0\n",
       "D_year                   0\n",
       "D_Day                    0\n",
       "dtype: int64"
      ]
     },
     "execution_count": 13,
     "metadata": {},
     "output_type": "execute_result"
    }
   ],
   "source": [
    "tp.isnull().sum()"
   ]
  },
  {
   "cell_type": "code",
   "execution_count": null,
   "metadata": {
    "id": "MOy2vj-6FRUf"
   },
   "outputs": [],
   "source": [
    "tp=tp.drop(\"Customer Id\",axis=1)"
   ]
  },
  {
   "cell_type": "code",
   "execution_count": null,
   "metadata": {
    "colab": {
     "base_uri": "https://localhost:8080/"
    },
    "id": "0llwJDp0GBx_",
    "outputId": "63304dea-631c-4fa3-897d-c4182eabba12"
   },
   "outputs": [
    {
     "data": {
      "text/plain": [
       "Index(['Artist Name', 'Artist Reputation', 'Height', 'Width', 'Weight',\n",
       "       'Material', 'Price Of Sculpture', 'Base Shipping Price',\n",
       "       'International', 'Express Shipment', 'Installation Included',\n",
       "       'Transport', 'Fragile', 'Customer Information', 'Remote Location',\n",
       "       'Customer Location', 'Cost', 'S_month', 'S_year', 'S_Day', 'D_month',\n",
       "       'D_year', 'D_Day'],\n",
       "      dtype='object')"
      ]
     },
     "execution_count": 15,
     "metadata": {},
     "output_type": "execute_result"
    }
   ],
   "source": [
    "tp.columns"
   ]
  },
  {
   "cell_type": "code",
   "execution_count": null,
   "metadata": {
    "id": "kMwx0xU3GHQV"
   },
   "outputs": [],
   "source": [
    "tp=tp[['Height', 'Width', 'Weight','International', 'Express Shipment', 'Base Shipping Price','Installation Included','Transport', 'Fragile', 'Remote Location', 'S_month', 'S_year', 'S_Day', 'D_month','D_year', 'D_Day', 'Cost']]"
   ]
  },
  {
   "cell_type": "code",
   "execution_count": null,
   "metadata": {
    "colab": {
     "base_uri": "https://localhost:8080/",
     "height": 223
    },
    "id": "gOjBp-BAGoBx",
    "outputId": "7e37b72a-cd99-4658-c511-93a3602cd60b"
   },
   "outputs": [
    {
     "data": {
      "text/html": [
       "<div>\n",
       "<style scoped>\n",
       "    .dataframe tbody tr th:only-of-type {\n",
       "        vertical-align: middle;\n",
       "    }\n",
       "\n",
       "    .dataframe tbody tr th {\n",
       "        vertical-align: top;\n",
       "    }\n",
       "\n",
       "    .dataframe thead th {\n",
       "        text-align: right;\n",
       "    }\n",
       "</style>\n",
       "<table border=\"1\" class=\"dataframe\">\n",
       "  <thead>\n",
       "    <tr style=\"text-align: right;\">\n",
       "      <th></th>\n",
       "      <th>Height</th>\n",
       "      <th>Width</th>\n",
       "      <th>Weight</th>\n",
       "      <th>International</th>\n",
       "      <th>Express Shipment</th>\n",
       "      <th>Base Shipping Price</th>\n",
       "      <th>Installation Included</th>\n",
       "      <th>Transport</th>\n",
       "      <th>Fragile</th>\n",
       "      <th>Remote Location</th>\n",
       "      <th>S_month</th>\n",
       "      <th>S_year</th>\n",
       "      <th>S_Day</th>\n",
       "      <th>D_month</th>\n",
       "      <th>D_year</th>\n",
       "      <th>D_Day</th>\n",
       "      <th>Cost</th>\n",
       "    </tr>\n",
       "  </thead>\n",
       "  <tbody>\n",
       "    <tr>\n",
       "      <th>0</th>\n",
       "      <td>17.0</td>\n",
       "      <td>6.000000</td>\n",
       "      <td>4128.000000</td>\n",
       "      <td>Yes</td>\n",
       "      <td>Yes</td>\n",
       "      <td>16.27</td>\n",
       "      <td>No</td>\n",
       "      <td>Airways</td>\n",
       "      <td>No</td>\n",
       "      <td>No</td>\n",
       "      <td>6</td>\n",
       "      <td>2015</td>\n",
       "      <td>7</td>\n",
       "      <td>6</td>\n",
       "      <td>2015</td>\n",
       "      <td>3</td>\n",
       "      <td>283.29</td>\n",
       "    </tr>\n",
       "    <tr>\n",
       "      <th>1</th>\n",
       "      <td>3.0</td>\n",
       "      <td>3.000000</td>\n",
       "      <td>61.000000</td>\n",
       "      <td>No</td>\n",
       "      <td>No</td>\n",
       "      <td>15.00</td>\n",
       "      <td>No</td>\n",
       "      <td>Roadways</td>\n",
       "      <td>No</td>\n",
       "      <td>No</td>\n",
       "      <td>3</td>\n",
       "      <td>2017</td>\n",
       "      <td>6</td>\n",
       "      <td>3</td>\n",
       "      <td>2017</td>\n",
       "      <td>5</td>\n",
       "      <td>159.96</td>\n",
       "    </tr>\n",
       "    <tr>\n",
       "      <th>2</th>\n",
       "      <td>8.0</td>\n",
       "      <td>5.000000</td>\n",
       "      <td>237.000000</td>\n",
       "      <td>No</td>\n",
       "      <td>No</td>\n",
       "      <td>21.18</td>\n",
       "      <td>No</td>\n",
       "      <td>Roadways</td>\n",
       "      <td>Yes</td>\n",
       "      <td>Yes</td>\n",
       "      <td>3</td>\n",
       "      <td>2015</td>\n",
       "      <td>9</td>\n",
       "      <td>3</td>\n",
       "      <td>2015</td>\n",
       "      <td>8</td>\n",
       "      <td>154.29</td>\n",
       "    </tr>\n",
       "    <tr>\n",
       "      <th>3</th>\n",
       "      <td>9.0</td>\n",
       "      <td>9.617647</td>\n",
       "      <td>400694.821918</td>\n",
       "      <td>No</td>\n",
       "      <td>No</td>\n",
       "      <td>16.31</td>\n",
       "      <td>No</td>\n",
       "      <td>missingTransport</td>\n",
       "      <td>No</td>\n",
       "      <td>Yes</td>\n",
       "      <td>5</td>\n",
       "      <td>2015</td>\n",
       "      <td>24</td>\n",
       "      <td>5</td>\n",
       "      <td>2015</td>\n",
       "      <td>20</td>\n",
       "      <td>161.16</td>\n",
       "    </tr>\n",
       "    <tr>\n",
       "      <th>4</th>\n",
       "      <td>17.0</td>\n",
       "      <td>6.000000</td>\n",
       "      <td>324.000000</td>\n",
       "      <td>Yes</td>\n",
       "      <td>Yes</td>\n",
       "      <td>11.94</td>\n",
       "      <td>Yes</td>\n",
       "      <td>Airways</td>\n",
       "      <td>No</td>\n",
       "      <td>No</td>\n",
       "      <td>12</td>\n",
       "      <td>2016</td>\n",
       "      <td>18</td>\n",
       "      <td>12</td>\n",
       "      <td>2016</td>\n",
       "      <td>14</td>\n",
       "      <td>159.23</td>\n",
       "    </tr>\n",
       "  </tbody>\n",
       "</table>\n",
       "</div>"
      ],
      "text/plain": [
       "   Height     Width         Weight  ... D_year D_Day    Cost\n",
       "0    17.0  6.000000    4128.000000  ...   2015     3  283.29\n",
       "1     3.0  3.000000      61.000000  ...   2017     5  159.96\n",
       "2     8.0  5.000000     237.000000  ...   2015     8  154.29\n",
       "3     9.0  9.617647  400694.821918  ...   2015    20  161.16\n",
       "4    17.0  6.000000     324.000000  ...   2016    14  159.23\n",
       "\n",
       "[5 rows x 17 columns]"
      ]
     },
     "execution_count": 17,
     "metadata": {},
     "output_type": "execute_result"
    }
   ],
   "source": [
    "tp.head()"
   ]
  },
  {
   "cell_type": "code",
   "execution_count": null,
   "metadata": {
    "id": "k9v99O5CINYC"
   },
   "outputs": [],
   "source": []
  },
  {
   "cell_type": "code",
   "execution_count": null,
   "metadata": {
    "id": "68B179GjHMoj"
   },
   "outputs": [],
   "source": [
    "tp=tp.replace({'Yes': True,'No':False,\"missingRemoteLocation\":False})"
   ]
  },
  {
   "cell_type": "code",
   "execution_count": null,
   "metadata": {
    "id": "5WiWaka9IIzl"
   },
   "outputs": [],
   "source": [
    "tp = pd.get_dummies(tp,prefix=['Transport'], columns = ['Transport'], drop_first=True)"
   ]
  },
  {
   "cell_type": "code",
   "execution_count": null,
   "metadata": {
    "colab": {
     "base_uri": "https://localhost:8080/",
     "height": 261
    },
    "id": "LlL3Os8YIOXa",
    "outputId": "afe80b2e-8e98-4352-8329-f388ae9e03fc"
   },
   "outputs": [
    {
     "data": {
      "text/html": [
       "<div>\n",
       "<style scoped>\n",
       "    .dataframe tbody tr th:only-of-type {\n",
       "        vertical-align: middle;\n",
       "    }\n",
       "\n",
       "    .dataframe tbody tr th {\n",
       "        vertical-align: top;\n",
       "    }\n",
       "\n",
       "    .dataframe thead th {\n",
       "        text-align: right;\n",
       "    }\n",
       "</style>\n",
       "<table border=\"1\" class=\"dataframe\">\n",
       "  <thead>\n",
       "    <tr style=\"text-align: right;\">\n",
       "      <th></th>\n",
       "      <th>Height</th>\n",
       "      <th>Width</th>\n",
       "      <th>Weight</th>\n",
       "      <th>International</th>\n",
       "      <th>Express Shipment</th>\n",
       "      <th>Base Shipping Price</th>\n",
       "      <th>Installation Included</th>\n",
       "      <th>Fragile</th>\n",
       "      <th>Remote Location</th>\n",
       "      <th>S_month</th>\n",
       "      <th>S_year</th>\n",
       "      <th>S_Day</th>\n",
       "      <th>D_month</th>\n",
       "      <th>D_year</th>\n",
       "      <th>D_Day</th>\n",
       "      <th>Cost</th>\n",
       "      <th>Transport_Roadways</th>\n",
       "      <th>Transport_Waterways</th>\n",
       "      <th>Transport_missingTransport</th>\n",
       "    </tr>\n",
       "  </thead>\n",
       "  <tbody>\n",
       "    <tr>\n",
       "      <th>0</th>\n",
       "      <td>17.0</td>\n",
       "      <td>6.000000</td>\n",
       "      <td>4128.000000</td>\n",
       "      <td>True</td>\n",
       "      <td>True</td>\n",
       "      <td>16.27</td>\n",
       "      <td>False</td>\n",
       "      <td>False</td>\n",
       "      <td>False</td>\n",
       "      <td>6</td>\n",
       "      <td>2015</td>\n",
       "      <td>7</td>\n",
       "      <td>6</td>\n",
       "      <td>2015</td>\n",
       "      <td>3</td>\n",
       "      <td>283.29</td>\n",
       "      <td>0</td>\n",
       "      <td>0</td>\n",
       "      <td>0</td>\n",
       "    </tr>\n",
       "    <tr>\n",
       "      <th>1</th>\n",
       "      <td>3.0</td>\n",
       "      <td>3.000000</td>\n",
       "      <td>61.000000</td>\n",
       "      <td>False</td>\n",
       "      <td>False</td>\n",
       "      <td>15.00</td>\n",
       "      <td>False</td>\n",
       "      <td>False</td>\n",
       "      <td>False</td>\n",
       "      <td>3</td>\n",
       "      <td>2017</td>\n",
       "      <td>6</td>\n",
       "      <td>3</td>\n",
       "      <td>2017</td>\n",
       "      <td>5</td>\n",
       "      <td>159.96</td>\n",
       "      <td>1</td>\n",
       "      <td>0</td>\n",
       "      <td>0</td>\n",
       "    </tr>\n",
       "    <tr>\n",
       "      <th>2</th>\n",
       "      <td>8.0</td>\n",
       "      <td>5.000000</td>\n",
       "      <td>237.000000</td>\n",
       "      <td>False</td>\n",
       "      <td>False</td>\n",
       "      <td>21.18</td>\n",
       "      <td>False</td>\n",
       "      <td>True</td>\n",
       "      <td>True</td>\n",
       "      <td>3</td>\n",
       "      <td>2015</td>\n",
       "      <td>9</td>\n",
       "      <td>3</td>\n",
       "      <td>2015</td>\n",
       "      <td>8</td>\n",
       "      <td>154.29</td>\n",
       "      <td>1</td>\n",
       "      <td>0</td>\n",
       "      <td>0</td>\n",
       "    </tr>\n",
       "    <tr>\n",
       "      <th>3</th>\n",
       "      <td>9.0</td>\n",
       "      <td>9.617647</td>\n",
       "      <td>400694.821918</td>\n",
       "      <td>False</td>\n",
       "      <td>False</td>\n",
       "      <td>16.31</td>\n",
       "      <td>False</td>\n",
       "      <td>False</td>\n",
       "      <td>True</td>\n",
       "      <td>5</td>\n",
       "      <td>2015</td>\n",
       "      <td>24</td>\n",
       "      <td>5</td>\n",
       "      <td>2015</td>\n",
       "      <td>20</td>\n",
       "      <td>161.16</td>\n",
       "      <td>0</td>\n",
       "      <td>0</td>\n",
       "      <td>1</td>\n",
       "    </tr>\n",
       "    <tr>\n",
       "      <th>4</th>\n",
       "      <td>17.0</td>\n",
       "      <td>6.000000</td>\n",
       "      <td>324.000000</td>\n",
       "      <td>True</td>\n",
       "      <td>True</td>\n",
       "      <td>11.94</td>\n",
       "      <td>True</td>\n",
       "      <td>False</td>\n",
       "      <td>False</td>\n",
       "      <td>12</td>\n",
       "      <td>2016</td>\n",
       "      <td>18</td>\n",
       "      <td>12</td>\n",
       "      <td>2016</td>\n",
       "      <td>14</td>\n",
       "      <td>159.23</td>\n",
       "      <td>0</td>\n",
       "      <td>0</td>\n",
       "      <td>0</td>\n",
       "    </tr>\n",
       "  </tbody>\n",
       "</table>\n",
       "</div>"
      ],
      "text/plain": [
       "   Height     Width  ...  Transport_Waterways  Transport_missingTransport\n",
       "0    17.0  6.000000  ...                    0                           0\n",
       "1     3.0  3.000000  ...                    0                           0\n",
       "2     8.0  5.000000  ...                    0                           0\n",
       "3     9.0  9.617647  ...                    0                           1\n",
       "4    17.0  6.000000  ...                    0                           0\n",
       "\n",
       "[5 rows x 19 columns]"
      ]
     },
     "execution_count": 20,
     "metadata": {},
     "output_type": "execute_result"
    }
   ],
   "source": [
    "tp.head()"
   ]
  },
  {
   "cell_type": "code",
   "execution_count": null,
   "metadata": {
    "colab": {
     "base_uri": "https://localhost:8080/"
    },
    "id": "4sFwC_qUI6TZ",
    "outputId": "c238efa9-d6d4-4753-b286-269dc15f6350"
   },
   "outputs": [
    {
     "name": "stdout",
     "output_type": "stream",
     "text": [
      "<class 'pandas.core.frame.DataFrame'>\n",
      "RangeIndex: 6500 entries, 0 to 6499\n",
      "Data columns (total 19 columns):\n",
      " #   Column                      Non-Null Count  Dtype  \n",
      "---  ------                      --------------  -----  \n",
      " 0   Height                      6500 non-null   float64\n",
      " 1   Width                       6500 non-null   float64\n",
      " 2   Weight                      6500 non-null   float64\n",
      " 3   International               6500 non-null   bool   \n",
      " 4   Express Shipment            6500 non-null   bool   \n",
      " 5   Base Shipping Price         6500 non-null   float64\n",
      " 6   Installation Included       6500 non-null   bool   \n",
      " 7   Fragile                     6500 non-null   bool   \n",
      " 8   Remote Location             6500 non-null   bool   \n",
      " 9   S_month                     6500 non-null   int64  \n",
      " 10  S_year                      6500 non-null   int64  \n",
      " 11  S_Day                       6500 non-null   int64  \n",
      " 12  D_month                     6500 non-null   int64  \n",
      " 13  D_year                      6500 non-null   int64  \n",
      " 14  D_Day                       6500 non-null   int64  \n",
      " 15  Cost                        6500 non-null   float64\n",
      " 16  Transport_Roadways          6500 non-null   uint8  \n",
      " 17  Transport_Waterways         6500 non-null   uint8  \n",
      " 18  Transport_missingTransport  6500 non-null   uint8  \n",
      "dtypes: bool(5), float64(5), int64(6), uint8(3)\n",
      "memory usage: 609.5 KB\n"
     ]
    }
   ],
   "source": [
    "tp.info()\n"
   ]
  },
  {
   "cell_type": "code",
   "execution_count": null,
   "metadata": {
    "colab": {
     "base_uri": "https://localhost:8080/"
    },
    "id": "WdoPPD4-IZBa",
    "outputId": "a7d603fd-dacb-4177-cf9f-ec8a4d31108d"
   },
   "outputs": [
    {
     "name": "stdout",
     "output_type": "stream",
     "text": [
      "Analysis of Testing Dataset\n",
      "Accuracy 0.8913213397253492\n",
      "This is the predicted model [15199.67423321   274.45015445   370.49763504 ... 14918.10285468\n",
      " 62439.86907958 15145.75852469]\n",
      "This is the original trained labels [1.5766000e+02 3.2940000e+02 1.4346000e+02 ... 1.7370800e+03 3.2664808e+05\n",
      " 1.7118000e+02]\n"
     ]
    }
   ],
   "source": [
    "from sklearn.model_selection import train_test_split\n",
    "from sklearn import metrics\n",
    "from sklearn.metrics import mean_squared_log_error\n",
    "\n",
    "features = tp.drop(\"Cost\",axis=1)\n",
    "labels = np.array(tp['Cost'])\n",
    "train_features, test_features, train_labels, test_labels = train_test_split(features, labels, test_size = 0.2, random_state = 20)\n",
    "\n",
    "\n",
    "\n",
    "from sklearn.neural_network import MLPRegressor\n",
    "lr = MLPRegressor(random_state=1, max_iter=500000)\n",
    "\n",
    "lr.fit(train_features, train_labels)\n",
    "\n",
    "print(\"Analysis of Testing Dataset\")\n",
    "y_pred = lr.predict(test_features)\n",
    "print('Accuracy {}'.format(lr.score(test_features, test_labels)))\n",
    "print(\"This is the predicted model\",y_pred)\n",
    "print(\"This is the original trained labels\",test_labels)\n"
   ]
  }
 ],
 "metadata": {
  "colab": {
   "collapsed_sections": [],
   "name": "SCA shipment price prediction .ipynb",
   "provenance": []
  },
  "kernelspec": {
   "display_name": "Python 3",
   "language": "python",
   "name": "python3"
  },
  "language_info": {
   "codemirror_mode": {
    "name": "ipython",
    "version": 3
   },
   "file_extension": ".py",
   "mimetype": "text/x-python",
   "name": "python",
   "nbconvert_exporter": "python",
   "pygments_lexer": "ipython3",
   "version": "3.8.5"
  }
 },
 "nbformat": 4,
 "nbformat_minor": 1
}
